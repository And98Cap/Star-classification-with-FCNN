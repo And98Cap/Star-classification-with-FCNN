{
 "cells": [
  {
   "cell_type": "markdown",
   "id": "77cec2ec",
   "metadata": {},
   "source": [
    "# Progetto rete neurale - Classificazione stelle"
   ]
  },
  {
   "cell_type": "markdown",
   "id": "c3d62f48",
   "metadata": {},
   "source": [
    "## Import Dataset"
   ]
  },
  {
   "cell_type": "markdown",
   "id": "3aa7d920",
   "metadata": {},
   "source": [
    "Importiamo le librerie base."
   ]
  },
  {
   "cell_type": "code",
   "execution_count": 22,
   "id": "dfb2605b",
   "metadata": {
    "ExecuteTime": {
     "end_time": "2023-09-14T14:24:42.457199Z",
     "start_time": "2023-09-14T14:24:42.447183Z"
    }
   },
   "outputs": [],
   "source": [
    "import numpy as np \n",
    "import pandas as pd \n",
    "from tqdm import tqdm\n",
    "import matplotlib.pyplot as plt\n"
   ]
  },
  {
   "cell_type": "markdown",
   "id": "ec95457b",
   "metadata": {},
   "source": [
    "Importiamo il dataset, composto da 240 esempi.\n",
    "Ciascun esempio è descritto da 6 feature diverse (Temperatura assoluta [K], Luminosità relativa [] , Raggio relativo [], Magnitudine assoluta [], Colore [], Classe spettrale []) con associato il tipo di stella tra 6 classi diverse (Brown Dwarf, Red Dwarf, White Dwarf, Main Sequence, Supergiant, Hypergiant)."
   ]
  },
  {
   "cell_type": "code",
   "execution_count": 23,
   "id": "5b063134",
   "metadata": {
    "ExecuteTime": {
     "end_time": "2023-09-14T14:24:42.489181Z",
     "start_time": "2023-09-14T14:24:42.459995Z"
    }
   },
   "outputs": [
    {
     "data": {
      "text/html": [
       "<div>\n",
       "<style scoped>\n",
       "    .dataframe tbody tr th:only-of-type {\n",
       "        vertical-align: middle;\n",
       "    }\n",
       "\n",
       "    .dataframe tbody tr th {\n",
       "        vertical-align: top;\n",
       "    }\n",
       "\n",
       "    .dataframe thead th {\n",
       "        text-align: right;\n",
       "    }\n",
       "</style>\n",
       "<table border=\"1\" class=\"dataframe\">\n",
       "  <thead>\n",
       "    <tr style=\"text-align: right;\">\n",
       "      <th></th>\n",
       "      <th>Temperature</th>\n",
       "      <th>L</th>\n",
       "      <th>R</th>\n",
       "      <th>A_M</th>\n",
       "      <th>Color</th>\n",
       "      <th>Spectral_Class</th>\n",
       "      <th>Type</th>\n",
       "    </tr>\n",
       "  </thead>\n",
       "  <tbody>\n",
       "    <tr>\n",
       "      <th>0</th>\n",
       "      <td>3068</td>\n",
       "      <td>0.002400</td>\n",
       "      <td>0.1700</td>\n",
       "      <td>16.12</td>\n",
       "      <td>Red</td>\n",
       "      <td>M</td>\n",
       "      <td>0</td>\n",
       "    </tr>\n",
       "    <tr>\n",
       "      <th>1</th>\n",
       "      <td>3042</td>\n",
       "      <td>0.000500</td>\n",
       "      <td>0.1542</td>\n",
       "      <td>16.60</td>\n",
       "      <td>Red</td>\n",
       "      <td>M</td>\n",
       "      <td>0</td>\n",
       "    </tr>\n",
       "    <tr>\n",
       "      <th>2</th>\n",
       "      <td>2600</td>\n",
       "      <td>0.000300</td>\n",
       "      <td>0.1020</td>\n",
       "      <td>18.70</td>\n",
       "      <td>Red</td>\n",
       "      <td>M</td>\n",
       "      <td>0</td>\n",
       "    </tr>\n",
       "    <tr>\n",
       "      <th>3</th>\n",
       "      <td>2800</td>\n",
       "      <td>0.000200</td>\n",
       "      <td>0.1600</td>\n",
       "      <td>16.65</td>\n",
       "      <td>Red</td>\n",
       "      <td>M</td>\n",
       "      <td>0</td>\n",
       "    </tr>\n",
       "    <tr>\n",
       "      <th>4</th>\n",
       "      <td>1939</td>\n",
       "      <td>0.000138</td>\n",
       "      <td>0.1030</td>\n",
       "      <td>20.06</td>\n",
       "      <td>Red</td>\n",
       "      <td>M</td>\n",
       "      <td>0</td>\n",
       "    </tr>\n",
       "  </tbody>\n",
       "</table>\n",
       "</div>"
      ],
      "text/plain": [
       "   Temperature         L       R    A_M Color Spectral_Class  Type\n",
       "0         3068  0.002400  0.1700  16.12   Red              M     0\n",
       "1         3042  0.000500  0.1542  16.60   Red              M     0\n",
       "2         2600  0.000300  0.1020  18.70   Red              M     0\n",
       "3         2800  0.000200  0.1600  16.65   Red              M     0\n",
       "4         1939  0.000138  0.1030  20.06   Red              M     0"
      ]
     },
     "execution_count": 23,
     "metadata": {},
     "output_type": "execute_result"
    }
   ],
   "source": [
    "dt= pd.read_csv(\"Stars.csv\")\n",
    "dt.head()"
   ]
  },
  {
   "cell_type": "markdown",
   "id": "19107085",
   "metadata": {},
   "source": [
    "Passiamo al primo check da fare, controlliamo la distribuzione degli esempi nelle vari classi(labels)."
   ]
  },
  {
   "cell_type": "code",
   "execution_count": 24,
   "id": "ecdac0f4",
   "metadata": {
    "ExecuteTime": {
     "end_time": "2023-09-14T14:24:42.629701Z",
     "start_time": "2023-09-14T14:24:42.490724Z"
    },
    "scrolled": true
   },
   "outputs": [
    {
     "name": "stderr",
     "output_type": "stream",
     "text": [
      "100%|██████████████████████████████████████████████████████████████████████████████████| 6/6 [00:00<00:00, 1998.72it/s]\n"
     ]
    },
    {
     "data": {
      "text/plain": [
       "Text(0, 0.5, '# of examples')"
      ]
     },
     "execution_count": 24,
     "metadata": {},
     "output_type": "execute_result"
    },
    {
     "data": {
      "image/png": "[encoded data removed]",
      "text/plain": [
       "<Figure size 720x288 with 1 Axes>"
      ]
     },
     "metadata": {
      "needs_background": "light"
     },
     "output_type": "display_data"
    }
   ],
   "source": [
    "#creiamo dizionario associando a numeri nome classe\n",
    "\n",
    "mydict = {0:\"Brown Dwarf\",1: \"Red Dwarf\", 2: \"White Dwarf\", 3: \"Main Sequence\"\n",
    "          , 4: \"Super Giants\", 5: \"Hyper Giants\"}\n",
    "\n",
    "for i in tqdm(range(len(mydict.keys()))):\n",
    "    dt[\"Type\"]=dt[\"Type\"].replace(i,mydict[i])    \n",
    "col = [\"k\",\"r\",\"c\",\"y\",\"g\", \"b\"]\n",
    "\n",
    "fig, ax = plt.subplots(figsize = (10,4))\n",
    "\n",
    "N, bins, patches = ax.hist(dt[\"Type\"],bins=np.arange(0,7)-.5, edgecolor='white', linewidth=8, align=\"mid\")\n",
    "\n",
    "#settiamo colore diverse ad ogni classe\n",
    "\n",
    "for i in range(len(col)-1):\n",
    "    patches[i].set_facecolor(col[i])\n",
    "ax.set_ylabel(\"# of examples\",)"
   ]
  },
  {
   "cell_type": "markdown",
   "id": "34ec8b91",
   "metadata": {},
   "source": [
    "Il dataset è equamente diviso nelle 6 classi(40 esempi per ogni classe), ora passiamo a graficare la distribuzione degli esempi in funzione delle features numeriche(Temperatura assoluta [K], Luminosità relativa [] , Raggio relativo [], Magnitudine assoluta [])."
   ]
  },
  {
   "cell_type": "code",
   "execution_count": 25,
   "id": "be802ed8",
   "metadata": {
    "ExecuteTime": {
     "end_time": "2023-09-14T14:24:43.022223Z",
     "start_time": "2023-09-14T14:24:42.631175Z"
    },
    "scrolled": true
   },
   "outputs": [
    {
     "data": {
      "image/png": "[encoded data removed]",
      "text/plain": [
       "<Figure size 864x864 with 4 Axes>"
      ]
     },
     "metadata": {
      "needs_background": "light"
     },
     "output_type": "display_data"
    }
   ],
   "source": [
    "fig, axs = plt.subplots(2,2, figsize = (12,12))\n",
    "meas_unit = ['[K]', '[]', '[]', '[]']\n",
    "\n",
    "for i,key in enumerate(dt.keys()):\n",
    "    if  i <=3:\n",
    "        ax = axs.ravel()[i]\n",
    "        ax.hist(dt[key])\n",
    "        ax.set_title(f\"{key} {meas_unit[i]}\", fontsize = 16)\n",
    "    else:\n",
    "        continue"
   ]
  },
  {
   "cell_type": "markdown",
   "id": "d27e5b0d",
   "metadata": {},
   "source": [
    "Sarà in seguito necessario riscalare le features perchè vi sono alcuni valori molto più frequenti di altri sopratutto agli estremi delle distribuzioni.\n",
    "Inoltre nessuna delle feature mostra una distribuzione normale, motivo per cui dovremo vedere che processo di scaling è il più opportuno.\n",
    "\n",
    "Importiamo ora da sklearn tutto ciò che ci servirà in seguito."
   ]
  },
  {
   "cell_type": "code",
   "execution_count": 26,
   "id": "396ec0bf",
   "metadata": {
    "ExecuteTime": {
     "end_time": "2023-09-14T14:24:43.037668Z",
     "start_time": "2023-09-14T14:24:43.024016Z"
    }
   },
   "outputs": [],
   "source": [
    "from sklearn.preprocessing import StandardScaler, MinMaxScaler, OneHotEncoder, RobustScaler\n",
    "from sklearn.model_selection import train_test_split\n",
    "import tensorflow as tf\n",
    "from tensorflow import keras"
   ]
  },
  {
   "cell_type": "markdown",
   "id": "d63f7ef0",
   "metadata": {},
   "source": [
    "## Pre-processing dati"
   ]
  },
  {
   "cell_type": "markdown",
   "id": "26e368a1",
   "metadata": {},
   "source": [
    "Verifichiamo dimensioni dataset e distinguiamo tra features e labels."
   ]
  },
  {
   "cell_type": "code",
   "execution_count": 27,
   "id": "651cf621",
   "metadata": {
    "ExecuteTime": {
     "end_time": "2023-09-14T14:24:43.052905Z",
     "start_time": "2023-09-14T14:24:43.040204Z"
    }
   },
   "outputs": [
    {
     "name": "stdout",
     "output_type": "stream",
     "text": [
      "Index(['Temperature', 'L', 'R', 'A_M', 'Color', 'Spectral_Class', 'Type'], dtype='object')\n",
      "\n",
      " (240, 7)\n"
     ]
    }
   ],
   "source": [
    "print(dt.keys())\n",
    "print('\\n',dt.shape)"
   ]
  },
  {
   "cell_type": "code",
   "execution_count": 28,
   "id": "57ba214d",
   "metadata": {
    "ExecuteTime": {
     "end_time": "2023-09-14T14:24:43.068454Z",
     "start_time": "2023-09-14T14:24:43.056893Z"
    }
   },
   "outputs": [
    {
     "name": "stdout",
     "output_type": "stream",
     "text": [
      "Dimensioni X sono :(240, 6)\n",
      "dimensioni y sono :(240, 1)\n",
      "Numero labels diverse:6\n"
     ]
    }
   ],
   "source": [
    "#divido features da labels\n",
    "\n",
    "y = dt[[\"Type\"]]\n",
    "X = dt.drop([\"Type\"], axis=1)\n",
    "n_classes = len(y.Type.unique())\n",
    "\n",
    "print(f\"Dimensioni X sono :{X.shape}\\ndimensioni y sono :{y.shape}\")\n",
    "print(f\"Numero labels diverse:{n_classes}\")"
   ]
  },
  {
   "cell_type": "markdown",
   "id": "f8fccb66",
   "metadata": {},
   "source": [
    "Processiamo i dati categoriali con il dummy encoding."
   ]
  },
  {
   "cell_type": "code",
   "execution_count": 29,
   "id": "47781c07",
   "metadata": {
    "ExecuteTime": {
     "end_time": "2023-09-14T14:24:43.099874Z",
     "start_time": "2023-09-14T14:24:43.071449Z"
    }
   },
   "outputs": [],
   "source": [
    "#implemento dummy encoding\n",
    "\n",
    "X_col = X[[\"Color\"]]\n",
    "X_col = pd.get_dummies(X_col)\n",
    "X_SC = X[[\"Spectral_Class\"]]\n",
    "X_SC = pd.get_dummies(X_SC)\n",
    "\n",
    "#aggiungo alla feature matrix\n",
    "\n",
    "X = pd.concat([X, X_col], axis=1)\n",
    "X = pd.concat([X, X_SC], axis=1)\n",
    "X = X.drop([\"Color\", \"Spectral_Class\"], axis=1)"
   ]
  },
  {
   "cell_type": "markdown",
   "id": "6837ceb5",
   "metadata": {},
   "source": [
    "Procediamo ora con il dividere il dataset in train, validation e test set, usando funzioni di sklearn."
   ]
  },
  {
   "cell_type": "code",
   "execution_count": 30,
   "id": "6534a01b",
   "metadata": {
    "ExecuteTime": {
     "end_time": "2023-09-14T14:24:43.130465Z",
     "start_time": "2023-09-14T14:24:43.101868Z"
    }
   },
   "outputs": [
    {
     "name": "stdout",
     "output_type": "stream",
     "text": [
      "Test set:\n",
      "dimensioni X sono :(36, 28)\n",
      "dimensioni y sono :(36, 1)\n",
      "\n",
      "Train set:\n",
      "dimensioni X sono :(142, 28)\n",
      "dimensioni y sono :(142, 1)\n",
      "\n",
      "Validation set:\n",
      "dimensioni X sono :(62, 28)\n",
      "dimensioni y sono :(62, 1)\n",
      "\n"
     ]
    }
   ],
   "source": [
    "test_size = .15\n",
    "val_size = 0.30\n",
    "X_train, X_test , y_train, y_test = train_test_split(X, y, test_size = test_size, stratify = y)\n",
    "X_train, X_val , y_train, y_val = train_test_split(X_train, y_train, test_size = val_size, stratify = y_train)\n",
    "print(f\"Test set:\\ndimensioni X sono :{X_test.shape}\\ndimensioni y sono :{y_test.shape}\\n\\nTrain set:\\ndimensioni X sono :{X_train.shape}\\ndimensioni y sono :{y_train.shape}\\n\\nValidation set:\\ndimensioni X sono :{X_val.shape}\\ndimensioni y sono :{y_val.shape}\\n\")"
   ]
  },
  {
   "cell_type": "markdown",
   "id": "8868bfbe",
   "metadata": {},
   "source": [
    "Possiamo ora implementare lo scaling delle features numeriche, definiamo una funzione generica in modo da poterne provare diversi tipi."
   ]
  },
  {
   "cell_type": "code",
   "execution_count": 31,
   "id": "13da1d34",
   "metadata": {
    "ExecuteTime": {
     "end_time": "2023-09-14T14:24:43.191312Z",
     "start_time": "2023-09-14T14:24:43.134288Z"
    }
   },
   "outputs": [],
   "source": [
    "#facciamo copia dei dati, in modo da poter fare più scaling\n",
    "\n",
    "X_train_nor , X_val_nor, X_test_nor = X_train.copy(), X_val.copy(), X_test.copy()\n",
    "\n",
    "#definiamo funzione generica\n",
    "\n",
    "def norm(X, scaler_type, n):\n",
    "    scalers = {}\n",
    "    for i, key in enumerate(X):\n",
    "        if i <= n:\n",
    "            scaler = scaler_type\n",
    "            X[[key]] = scaler.fit_transform(X[[key]])\n",
    "            scalers[i] = scaler\n",
    "    return scalers\n",
    "\n",
    "#proviamo il MinMaxScaler\n",
    "scaler_train = norm(X_train_nor, MinMaxScaler() ,3)\n",
    "scaler_test = norm(X_test_nor, MinMaxScaler(), 3)\n",
    "scaler_val = norm(X_val_nor, MinMaxScaler(),  3)"
   ]
  },
  {
   "cell_type": "markdown",
   "id": "25f8e8a5",
   "metadata": {},
   "source": [
    "Convertiamo ora le labels con il OneHotEncoding, che è più utile al nostro scopo di classificazione multiclasse."
   ]
  },
  {
   "cell_type": "code",
   "execution_count": 32,
   "id": "b6a1c994",
   "metadata": {
    "ExecuteTime": {
     "end_time": "2023-09-14T14:24:43.206950Z",
     "start_time": "2023-09-14T14:24:43.192488Z"
    }
   },
   "outputs": [],
   "source": [
    "enc = OneHotEncoder()\n",
    "\n",
    "#labels di train\n",
    "\n",
    "encoders = {}\n",
    "enc.fit(y_train)\n",
    "y_train_cat = enc.transform(y_train).toarray()\n",
    "encoders[0] = enc\n",
    "\n",
    "#labels di validation\n",
    "\n",
    "enc.fit(y_val)\n",
    "y_val_cat = enc.transform(y_val).toarray()\n",
    "encoders[1] = enc\n",
    "\n",
    "#labels di test\n",
    "\n",
    "enc.fit(y_train)\n",
    "y_test_cat = enc.transform(y_test).toarray()\n",
    "encoders[2] = enc"
   ]
  },
  {
   "cell_type": "markdown",
   "id": "1a867d03",
   "metadata": {},
   "source": [
    "Infine convertiamo gli esempi in numpy arrays, che la rete può utilizzare."
   ]
  },
  {
   "cell_type": "code",
   "execution_count": 33,
   "id": "496c971f",
   "metadata": {
    "ExecuteTime": {
     "end_time": "2023-09-14T14:24:43.222296Z",
     "start_time": "2023-09-14T14:24:43.208324Z"
    }
   },
   "outputs": [],
   "source": [
    "X_train_nor = X_train_nor.to_numpy()\n",
    "X_val_nor = X_val_nor.to_numpy()\n",
    "X_test_nor = X_test_nor.to_numpy()\n"
   ]
  },
  {
   "cell_type": "markdown",
   "id": "aaab790a",
   "metadata": {},
   "source": [
    "## Definizione struttura rete"
   ]
  },
  {
   "cell_type": "markdown",
   "id": "95c8d698",
   "metadata": {},
   "source": [
    "Passiamo ora al definire la struttura della nostra rete neurale, useremo la libreria keras, di cui importeremo diversi moduli."
   ]
  },
  {
   "cell_type": "code",
   "execution_count": 34,
   "id": "cc7fe844",
   "metadata": {
    "ExecuteTime": {
     "end_time": "2023-09-14T14:24:43.238326Z",
     "start_time": "2023-09-14T14:24:43.224288Z"
    }
   },
   "outputs": [],
   "source": [
    "#importiamo tipo modello \n",
    "\n",
    "from tensorflow.keras.models import Sequential\n",
    "\n",
    "#import unico tipo di layer che useremo\n",
    "\n",
    "from tensorflow.keras.layers import Dense\n"
   ]
  },
  {
   "cell_type": "code",
   "execution_count": 35,
   "id": "83a6c572",
   "metadata": {
    "ExecuteTime": {
     "end_time": "2023-09-14T14:24:43.300509Z",
     "start_time": "2023-09-14T14:24:43.241356Z"
    }
   },
   "outputs": [],
   "source": [
    "#creazione della struttura\n",
    "\n",
    "keras.backend.clear_session()\n",
    "\n",
    "model = Sequential()\n",
    "model.add(Dense(15, input_shape=(28,), kernel_initializer='he_normal', bias_initializer='zeros', activation='relu')) #15 hidden units with relu activation\n",
    "model.add(Dense(n_classes, activation='softmax')) #output layer with softmax activations"
   ]
  },
  {
   "cell_type": "code",
   "execution_count": 36,
   "id": "ea1861cb",
   "metadata": {
    "ExecuteTime": {
     "end_time": "2023-09-14T14:24:43.316309Z",
     "start_time": "2023-09-14T14:24:43.301508Z"
    }
   },
   "outputs": [
    {
     "name": "stdout",
     "output_type": "stream",
     "text": [
      "Model: \"sequential\"\n",
      "_________________________________________________________________\n",
      " Layer (type)                Output Shape              Param #   \n",
      "=================================================================\n",
      " dense (Dense)               (None, 15)                435       \n",
      "                                                                 \n",
      " dense_1 (Dense)             (None, 6)                 96        \n",
      "                                                                 \n",
      "=================================================================\n",
      "Total params: 531\n",
      "Trainable params: 531\n",
      "Non-trainable params: 0\n",
      "_________________________________________________________________\n"
     ]
    }
   ],
   "source": [
    "#check della struttura\n",
    "\n",
    "model.summary()"
   ]
  },
  {
   "cell_type": "code",
   "execution_count": 37,
   "id": "aaaf24be",
   "metadata": {
    "ExecuteTime": {
     "end_time": "2023-09-14T14:24:43.347169Z",
     "start_time": "2023-09-14T14:24:43.318994Z"
    }
   },
   "outputs": [],
   "source": [
    "#salviamo i pesi iniziali, nel caso volessimo fare più train del modello con iperparametri diversi\n",
    "\n",
    "model.save_weights('model.h5')"
   ]
  },
  {
   "cell_type": "code",
   "execution_count": 38,
   "id": "7f8f9b9e",
   "metadata": {
    "ExecuteTime": {
     "end_time": "2023-09-14T14:24:43.363126Z",
     "start_time": "2023-09-14T14:24:43.348984Z"
    }
   },
   "outputs": [],
   "source": [
    "#definisco gli iperparametri \n",
    "\n",
    "epochs = 100\n",
    "batch_size = 25\n"
   ]
  },
  {
   "cell_type": "markdown",
   "id": "c202f25d",
   "metadata": {},
   "source": [
    "## Training rete"
   ]
  },
  {
   "cell_type": "markdown",
   "id": "2d6a4699",
   "metadata": {},
   "source": [
    "Cominciamo ora a trainare la rete neurale."
   ]
  },
  {
   "cell_type": "code",
   "execution_count": 39,
   "id": "266f8e97",
   "metadata": {
    "ExecuteTime": {
     "end_time": "2023-09-14T14:24:48.373341Z",
     "start_time": "2023-09-14T14:24:43.364266Z"
    }
   },
   "outputs": [
    {
     "name": "stdout",
     "output_type": "stream",
     "text": [
      "Epoch 1/100\n",
      "6/6 [==============================] - 0s 31ms/step - loss: 1.7905 - accuracy: 0.1972 - val_loss: 1.7844 - val_accuracy: 0.2581\n",
      "Epoch 2/100\n",
      "6/6 [==============================] - 0s 9ms/step - loss: 1.7415 - accuracy: 0.2183 - val_loss: 1.7393 - val_accuracy: 0.2742\n",
      "Epoch 3/100\n",
      "6/6 [==============================] - 0s 10ms/step - loss: 1.6971 - accuracy: 0.2887 - val_loss: 1.6988 - val_accuracy: 0.2419\n",
      "Epoch 4/100\n",
      "6/6 [==============================] - 0s 10ms/step - loss: 1.6588 - accuracy: 0.1972 - val_loss: 1.6621 - val_accuracy: 0.2581\n",
      "Epoch 5/100\n",
      "6/6 [==============================] - 0s 9ms/step - loss: 1.6227 - accuracy: 0.2676 - val_loss: 1.6275 - val_accuracy: 0.2742\n",
      "Epoch 6/100\n",
      "6/6 [==============================] - 0s 9ms/step - loss: 1.5901 - accuracy: 0.3099 - val_loss: 1.5959 - val_accuracy: 0.3226\n",
      "Epoch 7/100\n",
      "6/6 [==============================] - 0s 11ms/step - loss: 1.5589 - accuracy: 0.3662 - val_loss: 1.5656 - val_accuracy: 0.3871\n",
      "Epoch 8/100\n",
      "6/6 [==============================] - 0s 8ms/step - loss: 1.5306 - accuracy: 0.3732 - val_loss: 1.5383 - val_accuracy: 0.4032\n",
      "Epoch 9/100\n",
      "6/6 [==============================] - 0s 8ms/step - loss: 1.5024 - accuracy: 0.4014 - val_loss: 1.5126 - val_accuracy: 0.4032\n",
      "Epoch 10/100\n",
      "6/6 [==============================] - 0s 8ms/step - loss: 1.4756 - accuracy: 0.4155 - val_loss: 1.4864 - val_accuracy: 0.4032\n",
      "Epoch 11/100\n",
      "6/6 [==============================] - 0s 9ms/step - loss: 1.4488 - accuracy: 0.4225 - val_loss: 1.4584 - val_accuracy: 0.4032\n",
      "Epoch 12/100\n",
      "6/6 [==============================] - 0s 9ms/step - loss: 1.4203 - accuracy: 0.4366 - val_loss: 1.4332 - val_accuracy: 0.4032\n",
      "Epoch 13/100\n",
      "6/6 [==============================] - 0s 9ms/step - loss: 1.3949 - accuracy: 0.4366 - val_loss: 1.4082 - val_accuracy: 0.4032\n",
      "Epoch 14/100\n",
      "6/6 [==============================] - 0s 8ms/step - loss: 1.3698 - accuracy: 0.4437 - val_loss: 1.3847 - val_accuracy: 0.3871\n",
      "Epoch 15/100\n",
      "6/6 [==============================] - 0s 9ms/step - loss: 1.3445 - accuracy: 0.4507 - val_loss: 1.3611 - val_accuracy: 0.3871\n",
      "Epoch 16/100\n",
      "6/6 [==============================] - 0s 8ms/step - loss: 1.3200 - accuracy: 0.4789 - val_loss: 1.3377 - val_accuracy: 0.4194\n",
      "Epoch 17/100\n",
      "6/6 [==============================] - 0s 8ms/step - loss: 1.2955 - accuracy: 0.4930 - val_loss: 1.3131 - val_accuracy: 0.5161\n",
      "Epoch 18/100\n",
      "6/6 [==============================] - 0s 8ms/step - loss: 1.2711 - accuracy: 0.5352 - val_loss: 1.2894 - val_accuracy: 0.5645\n",
      "Epoch 19/100\n",
      "6/6 [==============================] - 0s 9ms/step - loss: 1.2478 - accuracy: 0.5493 - val_loss: 1.2667 - val_accuracy: 0.5645\n",
      "Epoch 20/100\n",
      "6/6 [==============================] - 0s 9ms/step - loss: 1.2235 - accuracy: 0.5775 - val_loss: 1.2445 - val_accuracy: 0.5806\n",
      "Epoch 21/100\n",
      "6/6 [==============================] - 0s 9ms/step - loss: 1.1999 - accuracy: 0.5915 - val_loss: 1.2211 - val_accuracy: 0.5806\n",
      "Epoch 22/100\n",
      "6/6 [==============================] - 0s 8ms/step - loss: 1.1767 - accuracy: 0.6197 - val_loss: 1.1986 - val_accuracy: 0.5806\n",
      "Epoch 23/100\n",
      "6/6 [==============================] - 0s 8ms/step - loss: 1.1544 - accuracy: 0.6127 - val_loss: 1.1768 - val_accuracy: 0.5806\n",
      "Epoch 24/100\n",
      "6/6 [==============================] - 0s 9ms/step - loss: 1.1304 - accuracy: 0.6338 - val_loss: 1.1543 - val_accuracy: 0.6129\n",
      "Epoch 25/100\n",
      "6/6 [==============================] - 0s 9ms/step - loss: 1.1064 - accuracy: 0.6479 - val_loss: 1.1324 - val_accuracy: 0.6129\n",
      "Epoch 26/100\n",
      "6/6 [==============================] - 0s 9ms/step - loss: 1.0843 - accuracy: 0.6620 - val_loss: 1.1111 - val_accuracy: 0.6290\n",
      "Epoch 27/100\n",
      "6/6 [==============================] - 0s 9ms/step - loss: 1.0619 - accuracy: 0.6761 - val_loss: 1.0899 - val_accuracy: 0.6290\n",
      "Epoch 28/100\n",
      "6/6 [==============================] - 0s 7ms/step - loss: 1.0406 - accuracy: 0.6690 - val_loss: 1.0694 - val_accuracy: 0.6290\n",
      "Epoch 29/100\n",
      "6/6 [==============================] - 0s 8ms/step - loss: 1.0197 - accuracy: 0.6761 - val_loss: 1.0492 - val_accuracy: 0.6290\n",
      "Epoch 30/100\n",
      "6/6 [==============================] - 0s 8ms/step - loss: 0.9978 - accuracy: 0.6690 - val_loss: 1.0295 - val_accuracy: 0.6290\n",
      "Epoch 31/100\n",
      "6/6 [==============================] - 0s 9ms/step - loss: 0.9774 - accuracy: 0.6761 - val_loss: 1.0100 - val_accuracy: 0.6452\n",
      "Epoch 32/100\n",
      "6/6 [==============================] - 0s 9ms/step - loss: 0.9575 - accuracy: 0.6831 - val_loss: 0.9908 - val_accuracy: 0.6452\n",
      "Epoch 33/100\n",
      "6/6 [==============================] - 0s 7ms/step - loss: 0.9375 - accuracy: 0.6831 - val_loss: 0.9730 - val_accuracy: 0.6452\n",
      "Epoch 34/100\n",
      "6/6 [==============================] - 0s 8ms/step - loss: 0.9185 - accuracy: 0.6901 - val_loss: 0.9552 - val_accuracy: 0.6452\n",
      "Epoch 35/100\n",
      "6/6 [==============================] - 0s 8ms/step - loss: 0.8997 - accuracy: 0.6901 - val_loss: 0.9366 - val_accuracy: 0.6452\n",
      "Epoch 36/100\n",
      "6/6 [==============================] - 0s 8ms/step - loss: 0.8816 - accuracy: 0.6901 - val_loss: 0.9204 - val_accuracy: 0.6452\n",
      "Epoch 37/100\n",
      "6/6 [==============================] - 0s 8ms/step - loss: 0.8638 - accuracy: 0.6972 - val_loss: 0.9041 - val_accuracy: 0.6452\n",
      "Epoch 38/100\n",
      "6/6 [==============================] - 0s 8ms/step - loss: 0.8486 - accuracy: 0.7042 - val_loss: 0.8892 - val_accuracy: 0.6613\n",
      "Epoch 39/100\n",
      "6/6 [==============================] - 0s 8ms/step - loss: 0.8318 - accuracy: 0.7113 - val_loss: 0.8741 - val_accuracy: 0.6613\n",
      "Epoch 40/100\n",
      "6/6 [==============================] - 0s 9ms/step - loss: 0.8172 - accuracy: 0.7113 - val_loss: 0.8597 - val_accuracy: 0.6613\n",
      "Epoch 41/100\n",
      "6/6 [==============================] - 0s 8ms/step - loss: 0.7994 - accuracy: 0.7183 - val_loss: 0.8457 - val_accuracy: 0.6613\n",
      "Epoch 42/100\n",
      "6/6 [==============================] - 0s 8ms/step - loss: 0.7851 - accuracy: 0.7183 - val_loss: 0.8333 - val_accuracy: 0.6613\n",
      "Epoch 43/100\n",
      "6/6 [==============================] - 0s 7ms/step - loss: 0.7705 - accuracy: 0.7254 - val_loss: 0.8211 - val_accuracy: 0.6613\n",
      "Epoch 44/100\n",
      "6/6 [==============================] - 0s 8ms/step - loss: 0.7592 - accuracy: 0.7324 - val_loss: 0.8093 - val_accuracy: 0.6613\n",
      "Epoch 45/100\n",
      "6/6 [==============================] - 0s 9ms/step - loss: 0.7446 - accuracy: 0.7324 - val_loss: 0.7982 - val_accuracy: 0.6774\n",
      "Epoch 46/100\n",
      "6/6 [==============================] - 0s 8ms/step - loss: 0.7332 - accuracy: 0.7183 - val_loss: 0.7877 - val_accuracy: 0.6774\n",
      "Epoch 47/100\n",
      "6/6 [==============================] - 0s 8ms/step - loss: 0.7192 - accuracy: 0.7394 - val_loss: 0.7773 - val_accuracy: 0.6774\n",
      "Epoch 48/100\n",
      "6/6 [==============================] - 0s 9ms/step - loss: 0.7077 - accuracy: 0.7324 - val_loss: 0.7670 - val_accuracy: 0.6935\n",
      "Epoch 49/100\n",
      "6/6 [==============================] - 0s 9ms/step - loss: 0.6978 - accuracy: 0.7465 - val_loss: 0.7567 - val_accuracy: 0.6935\n",
      "Epoch 50/100\n",
      "6/6 [==============================] - 0s 8ms/step - loss: 0.6851 - accuracy: 0.7465 - val_loss: 0.7468 - val_accuracy: 0.6935\n",
      "Epoch 51/100\n",
      "6/6 [==============================] - 0s 9ms/step - loss: 0.6753 - accuracy: 0.7394 - val_loss: 0.7393 - val_accuracy: 0.6935\n",
      "Epoch 52/100\n",
      "6/6 [==============================] - 0s 9ms/step - loss: 0.6650 - accuracy: 0.7465 - val_loss: 0.7309 - val_accuracy: 0.6935\n",
      "Epoch 53/100\n",
      "6/6 [==============================] - 0s 9ms/step - loss: 0.6562 - accuracy: 0.7465 - val_loss: 0.7214 - val_accuracy: 0.6935\n",
      "Epoch 54/100\n",
      "6/6 [==============================] - 0s 8ms/step - loss: 0.6475 - accuracy: 0.7465 - val_loss: 0.7136 - val_accuracy: 0.7097\n",
      "Epoch 55/100\n",
      "6/6 [==============================] - 0s 7ms/step - loss: 0.6361 - accuracy: 0.7465 - val_loss: 0.7058 - val_accuracy: 0.7258\n",
      "Epoch 56/100\n",
      "6/6 [==============================] - 0s 8ms/step - loss: 0.6301 - accuracy: 0.7535 - val_loss: 0.6984 - val_accuracy: 0.7258\n",
      "Epoch 57/100\n",
      "6/6 [==============================] - 0s 7ms/step - loss: 0.6204 - accuracy: 0.7676 - val_loss: 0.6908 - val_accuracy: 0.7258\n",
      "Epoch 58/100\n",
      "6/6 [==============================] - 0s 7ms/step - loss: 0.6126 - accuracy: 0.7535 - val_loss: 0.6832 - val_accuracy: 0.7258\n",
      "Epoch 59/100\n"
     ]
    },
    {
     "name": "stdout",
     "output_type": "stream",
     "text": [
      "6/6 [==============================] - 0s 7ms/step - loss: 0.6054 - accuracy: 0.7535 - val_loss: 0.6769 - val_accuracy: 0.7258\n",
      "Epoch 60/100\n",
      "6/6 [==============================] - 0s 7ms/step - loss: 0.5965 - accuracy: 0.7535 - val_loss: 0.6710 - val_accuracy: 0.7258\n",
      "Epoch 61/100\n",
      "6/6 [==============================] - 0s 8ms/step - loss: 0.5911 - accuracy: 0.7535 - val_loss: 0.6649 - val_accuracy: 0.7258\n",
      "Epoch 62/100\n",
      "6/6 [==============================] - 0s 8ms/step - loss: 0.5851 - accuracy: 0.8099 - val_loss: 0.6606 - val_accuracy: 0.7258\n",
      "Epoch 63/100\n",
      "6/6 [==============================] - 0s 7ms/step - loss: 0.5784 - accuracy: 0.7746 - val_loss: 0.6565 - val_accuracy: 0.7258\n",
      "Epoch 64/100\n",
      "6/6 [==============================] - 0s 8ms/step - loss: 0.5716 - accuracy: 0.7535 - val_loss: 0.6493 - val_accuracy: 0.7258\n",
      "Epoch 65/100\n",
      "6/6 [==============================] - 0s 7ms/step - loss: 0.5643 - accuracy: 0.7535 - val_loss: 0.6433 - val_accuracy: 0.7258\n",
      "Epoch 66/100\n",
      "6/6 [==============================] - 0s 8ms/step - loss: 0.5581 - accuracy: 0.7535 - val_loss: 0.6379 - val_accuracy: 0.7258\n",
      "Epoch 67/100\n",
      "6/6 [==============================] - 0s 7ms/step - loss: 0.5521 - accuracy: 0.7535 - val_loss: 0.6324 - val_accuracy: 0.7258\n",
      "Epoch 68/100\n",
      "6/6 [==============================] - 0s 8ms/step - loss: 0.5496 - accuracy: 0.7676 - val_loss: 0.6278 - val_accuracy: 0.7258\n",
      "Epoch 69/100\n",
      "6/6 [==============================] - 0s 8ms/step - loss: 0.5415 - accuracy: 0.7676 - val_loss: 0.6221 - val_accuracy: 0.7258\n",
      "Epoch 70/100\n",
      "6/6 [==============================] - 0s 8ms/step - loss: 0.5380 - accuracy: 0.7535 - val_loss: 0.6185 - val_accuracy: 0.7419\n",
      "Epoch 71/100\n",
      "6/6 [==============================] - 0s 8ms/step - loss: 0.5357 - accuracy: 0.7746 - val_loss: 0.6148 - val_accuracy: 0.7419\n",
      "Epoch 72/100\n",
      "6/6 [==============================] - 0s 8ms/step - loss: 0.5274 - accuracy: 0.8028 - val_loss: 0.6105 - val_accuracy: 0.7419\n",
      "Epoch 73/100\n",
      "6/6 [==============================] - 0s 8ms/step - loss: 0.5216 - accuracy: 0.8028 - val_loss: 0.6069 - val_accuracy: 0.7581\n",
      "Epoch 74/100\n",
      "6/6 [==============================] - 0s 7ms/step - loss: 0.5194 - accuracy: 0.8099 - val_loss: 0.6011 - val_accuracy: 0.7581\n",
      "Epoch 75/100\n",
      "6/6 [==============================] - 0s 8ms/step - loss: 0.5118 - accuracy: 0.8099 - val_loss: 0.5964 - val_accuracy: 0.7581\n",
      "Epoch 76/100\n",
      "6/6 [==============================] - 0s 7ms/step - loss: 0.5078 - accuracy: 0.8099 - val_loss: 0.5916 - val_accuracy: 0.7581\n",
      "Epoch 77/100\n",
      "6/6 [==============================] - 0s 8ms/step - loss: 0.5051 - accuracy: 0.8451 - val_loss: 0.5876 - val_accuracy: 0.7581\n",
      "Epoch 78/100\n",
      "6/6 [==============================] - 0s 7ms/step - loss: 0.5000 - accuracy: 0.8239 - val_loss: 0.5838 - val_accuracy: 0.7581\n",
      "Epoch 79/100\n",
      "6/6 [==============================] - 0s 8ms/step - loss: 0.4938 - accuracy: 0.8099 - val_loss: 0.5794 - val_accuracy: 0.7742\n",
      "Epoch 80/100\n",
      "6/6 [==============================] - 0s 7ms/step - loss: 0.4921 - accuracy: 0.8380 - val_loss: 0.5760 - val_accuracy: 0.7581\n",
      "Epoch 81/100\n",
      "6/6 [==============================] - 0s 8ms/step - loss: 0.4898 - accuracy: 0.8169 - val_loss: 0.5732 - val_accuracy: 0.7581\n",
      "Epoch 82/100\n",
      "6/6 [==============================] - 0s 8ms/step - loss: 0.4843 - accuracy: 0.8099 - val_loss: 0.5687 - val_accuracy: 0.7581\n",
      "Epoch 83/100\n",
      "6/6 [==============================] - 0s 8ms/step - loss: 0.4787 - accuracy: 0.8099 - val_loss: 0.5643 - val_accuracy: 0.7581\n",
      "Epoch 84/100\n",
      "6/6 [==============================] - 0s 8ms/step - loss: 0.4764 - accuracy: 0.8239 - val_loss: 0.5616 - val_accuracy: 0.7581\n",
      "Epoch 85/100\n",
      "6/6 [==============================] - 0s 8ms/step - loss: 0.4725 - accuracy: 0.8099 - val_loss: 0.5572 - val_accuracy: 0.7742\n",
      "Epoch 86/100\n",
      "6/6 [==============================] - 0s 8ms/step - loss: 0.4687 - accuracy: 0.8521 - val_loss: 0.5545 - val_accuracy: 0.7581\n",
      "Epoch 87/100\n",
      "6/6 [==============================] - 0s 8ms/step - loss: 0.4649 - accuracy: 0.8239 - val_loss: 0.5509 - val_accuracy: 0.7581\n",
      "Epoch 88/100\n",
      "6/6 [==============================] - 0s 8ms/step - loss: 0.4608 - accuracy: 0.8169 - val_loss: 0.5474 - val_accuracy: 0.7581\n",
      "Epoch 89/100\n",
      "6/6 [==============================] - 0s 7ms/step - loss: 0.4587 - accuracy: 0.8099 - val_loss: 0.5432 - val_accuracy: 0.7903\n",
      "Epoch 90/100\n",
      "6/6 [==============================] - 0s 7ms/step - loss: 0.4563 - accuracy: 0.8380 - val_loss: 0.5410 - val_accuracy: 0.8387\n",
      "Epoch 91/100\n",
      "6/6 [==============================] - 0s 7ms/step - loss: 0.4516 - accuracy: 0.9014 - val_loss: 0.5391 - val_accuracy: 0.7581\n",
      "Epoch 92/100\n",
      "6/6 [==============================] - 0s 8ms/step - loss: 0.4507 - accuracy: 0.8239 - val_loss: 0.5356 - val_accuracy: 0.7581\n",
      "Epoch 93/100\n",
      "6/6 [==============================] - 0s 7ms/step - loss: 0.4483 - accuracy: 0.8239 - val_loss: 0.5334 - val_accuracy: 0.7581\n",
      "Epoch 94/100\n",
      "6/6 [==============================] - 0s 8ms/step - loss: 0.4439 - accuracy: 0.8451 - val_loss: 0.5321 - val_accuracy: 0.7581\n",
      "Epoch 95/100\n",
      "6/6 [==============================] - 0s 7ms/step - loss: 0.4397 - accuracy: 0.8099 - val_loss: 0.5269 - val_accuracy: 0.7581\n",
      "Epoch 96/100\n",
      "6/6 [==============================] - 0s 7ms/step - loss: 0.4358 - accuracy: 0.8099 - val_loss: 0.5225 - val_accuracy: 0.7903\n",
      "Epoch 97/100\n",
      "6/6 [==============================] - 0s 8ms/step - loss: 0.4336 - accuracy: 0.8451 - val_loss: 0.5196 - val_accuracy: 0.7742\n",
      "Epoch 98/100\n",
      "6/6 [==============================] - 0s 7ms/step - loss: 0.4319 - accuracy: 0.8310 - val_loss: 0.5164 - val_accuracy: 0.8226\n",
      "Epoch 99/100\n",
      "6/6 [==============================] - 0s 8ms/step - loss: 0.4270 - accuracy: 0.8380 - val_loss: 0.5135 - val_accuracy: 0.8548\n",
      "Epoch 100/100\n",
      "6/6 [==============================] - 0s 7ms/step - loss: 0.4261 - accuracy: 0.9296 - val_loss: 0.5118 - val_accuracy: 0.7581\n"
     ]
    }
   ],
   "source": [
    "#compiliamo il modello, useremo in questo caso lo Stochastic Gradient Descend\n",
    "\n",
    "model.compile(loss='categorical_crossentropy', optimizer=keras.optimizers.SGD(learning_rate = .05), metrics=['accuracy'])\n",
    "\n",
    "#facciamo il fit \n",
    "\n",
    "history = model.fit(X_train_nor, y_train_cat, epochs=epochs, batch_size=batch_size, validation_data=(X_val_nor,y_val_cat), verbose=1, shuffle=True)"
   ]
  },
  {
   "cell_type": "markdown",
   "id": "c8b46af2",
   "metadata": {},
   "source": [
    "Verifichiamo con il test set come si comporta il modello con nuovi dati."
   ]
  },
  {
   "cell_type": "code",
   "execution_count": 40,
   "id": "9da5c4f8",
   "metadata": {
    "ExecuteTime": {
     "end_time": "2023-09-14T14:24:48.451002Z",
     "start_time": "2023-09-14T14:24:48.374393Z"
    }
   },
   "outputs": [
    {
     "name": "stdout",
     "output_type": "stream",
     "text": [
      "2/2 [==============================] - 0s 5ms/step - loss: 0.4147 - accuracy: 0.7778\n",
      "Test Loss:\t 0.414668470621109\n",
      "Test Accuracy:\t 0.7777777910232544\n"
     ]
    }
   ],
   "source": [
    "test_loss, test_acc = model.evaluate(X_test_nor, y_test_cat)\n",
    "\n",
    "print('Test Loss:\\t', test_loss)\n",
    "print('Test Accuracy:\\t', test_acc)"
   ]
  },
  {
   "cell_type": "markdown",
   "id": "35803af4",
   "metadata": {},
   "source": [
    "Valutiamo ora le learning curves, in modo da studiare eventuali problemi del modello."
   ]
  },
  {
   "cell_type": "code",
   "execution_count": 41,
   "id": "945152e6",
   "metadata": {
    "ExecuteTime": {
     "end_time": "2023-09-14T14:24:48.608085Z",
     "start_time": "2023-09-14T14:24:48.452365Z"
    }
   },
   "outputs": [
    {
     "data": {
      "text/plain": [
       "Text(0.5, 1.0, 'Learning curves(SGD) - MinMaxScaling')"
      ]
     },
     "execution_count": 41,
     "metadata": {},
     "output_type": "execute_result"
    },
    {
     "data": {
      "image/png": "[encoded data removed]",
      "text/plain": [
       "<Figure size 576x432 with 1 Axes>"
      ]
     },
     "metadata": {
      "needs_background": "light"
     },
     "output_type": "display_data"
    }
   ],
   "source": [
    "fig, ax = plt.subplots(figsize=(8,6))\n",
    "\n",
    "for metric in history.history:\n",
    "    if len(metric.split('_')) < 2:\n",
    "        ax.plot(np.array(history.epoch)-.5, history.history[metric], label=metric)\n",
    "    else:\n",
    "        ax.plot(history.epoch, history.history[metric], label=metric)\n",
    "    \n",
    "ax.grid()\n",
    "\n",
    "\n",
    "ax.legend(fontsize=15);\n",
    "ax.set_title(\"Learning curves(SGD) - MinMaxScaling\", fontsize = 18)"
   ]
  },
  {
   "cell_type": "markdown",
   "id": "cc982e8d",
   "metadata": {},
   "source": [
    "Sebbene sia l'accuracy che la loss del modello sul test set siano buone, è chiaro dalle learning curves che c'è un problema non dovuto al learning rate (accuracy oscilla mentre la loss tende ad avere il giusto trend).\n",
    "\n",
    "Proviamo dunque a cambiare lo scaling dei dati e ri-trainare il modello, usiamo il RobustScaling, visto che dalla distribuzione dei dati si evincevano valori molto più frequenti di altri."
   ]
  },
  {
   "cell_type": "code",
   "execution_count": 42,
   "id": "1672d933",
   "metadata": {
    "ExecuteTime": {
     "end_time": "2023-09-14T14:24:48.670557Z",
     "start_time": "2023-09-14T14:24:48.610080Z"
    }
   },
   "outputs": [],
   "source": [
    "#facciamo ancora una copia dei dati \n",
    "\n",
    "X_train_nor , X_val_nor, X_test_nor = X_train.copy(), X_val.copy(), X_test.copy()\n",
    "\n",
    "#proviamo il RobustScaler\n",
    "scaler_train = norm(X_train_nor, RobustScaler() ,3)\n",
    "scaler_test = norm(X_test_nor, RobustScaler(), 3)\n",
    "scaler_val = norm(X_val_nor, RobustScaler(),  3)"
   ]
  },
  {
   "cell_type": "markdown",
   "id": "e495a5fb",
   "metadata": {},
   "source": [
    "Convertiamo in numpy arrays.\n"
   ]
  },
  {
   "cell_type": "code",
   "execution_count": 43,
   "id": "d6a5dccd",
   "metadata": {
    "ExecuteTime": {
     "end_time": "2023-09-14T14:24:48.686260Z",
     "start_time": "2023-09-14T14:24:48.672216Z"
    }
   },
   "outputs": [],
   "source": [
    "X_train_nor = X_train_nor.to_numpy()\n",
    "X_val_nor = X_val_nor.to_numpy()\n",
    "X_test_nor = X_test_nor.to_numpy()\n"
   ]
  },
  {
   "cell_type": "markdown",
   "id": "33a520f3",
   "metadata": {},
   "source": [
    "Dobbiamo ora resettare i pesi che avevamo inizializzato, dunque usiamo la copia fatta inizialmente e facciamo altro train."
   ]
  },
  {
   "cell_type": "code",
   "execution_count": 45,
   "id": "88f6447a",
   "metadata": {
    "ExecuteTime": {
     "end_time": "2023-09-14T14:25:07.599226Z",
     "start_time": "2023-09-14T14:25:03.915969Z"
    }
   },
   "outputs": [],
   "source": [
    "model.load_weights('model.h5')\n",
    "\n",
    "#compiliamo il modello, useremo ancora Stochastic Gradient Descend\n",
    "\n",
    "model.compile(loss='categorical_crossentropy', optimizer=keras.optimizers.SGD(learning_rate = .05), metrics=['accuracy'])\n",
    "\n",
    "#facciamo il fit \n",
    "\n",
    "history = model.fit(X_train_nor, y_train_cat, epochs=epochs, batch_size=batch_size, validation_data=(X_val_nor,y_val_cat), verbose=0, shuffle=True);"
   ]
  },
  {
   "cell_type": "markdown",
   "id": "58f7b4dd",
   "metadata": {},
   "source": [
    "Valutiamo performance sul test set in questo caso."
   ]
  },
  {
   "cell_type": "code",
   "execution_count": 27,
   "id": "750b1254",
   "metadata": {},
   "outputs": [
    {
     "name": "stdout",
     "output_type": "stream",
     "text": [
      "2/2 [==============================] - 0s 4ms/step - loss: 0.3068 - accuracy: 0.9444\n",
      "Test Loss:\t 0.3068050146102905\n",
      "Test Accuracy:\t 0.9444444179534912\n"
     ]
    }
   ],
   "source": [
    "test_loss, test_acc = model.evaluate(X_test_nor, y_test_cat)\n",
    "\n",
    "print('Test Loss:\\t', test_loss)\n",
    "print('Test Accuracy:\\t', test_acc)"
   ]
  },
  {
   "cell_type": "markdown",
   "id": "e1b48981",
   "metadata": {},
   "source": [
    "Grafichiamo le learning curves."
   ]
  },
  {
   "cell_type": "code",
   "execution_count": 28,
   "id": "83e8d62a",
   "metadata": {},
   "outputs": [
    {
     "data": {
      "text/plain": [
       "Text(0.5, 1.0, 'Learning curves(SGD) - RobustScaling')"
      ]
     },
     "execution_count": 28,
     "metadata": {},
     "output_type": "execute_result"
    },
    {
     "data": {
      "image/png": "[encoded data removed]",
      "text/plain": [
       "<Figure size 576x432 with 1 Axes>"
      ]
     },
     "metadata": {
      "needs_background": "light"
     },
     "output_type": "display_data"
    }
   ],
   "source": [
    "fig, ax = plt.subplots(figsize=(8,6))\n",
    "\n",
    "for metric in history.history:\n",
    "    if len(metric.split('_')) < 2:\n",
    "        ax.plot(np.array(history.epoch)-.5, history.history[metric], label=metric)\n",
    "    else:\n",
    "        ax.plot(history.epoch, history.history[metric], label=metric)\n",
    "    \n",
    "ax.grid()    \n",
    "\n",
    "ax.legend(fontsize=15);\n",
    "ax.set_title(\"Learning curves(SGD) - RobustScaling\", fontsize = 18)"
   ]
  },
  {
   "cell_type": "code",
   "execution_count": 29,
   "id": "1f07a168",
   "metadata": {},
   "outputs": [],
   "source": [
    "fig.savefig(\"Learning curves(SGD) - RobustScaling.jpg\",bbox_inches='tight', dpi=150)"
   ]
  },
  {
   "cell_type": "markdown",
   "id": "413bc727",
   "metadata": {},
   "source": [
    "Ancora una volta le performance sono buone, ma l'andamento dell'accuracy è molto oscillante, sebbene sia chiaro che con questo scaling sia migliore.\n",
    "\n",
    "A questo punto per rimuovere oscillazioni proviamo a cambiare l'algoritmo di ottimizzazione, usando l'Adam optimizer, che potrebbe essere più consistente utilizzando adattamenti su learning rate di parametri diversi.\n",
    "\n",
    "Procediamo ancora una volta a caricare i pesi iniziali, in modo da poter tornare a fare train."
   ]
  },
  {
   "cell_type": "code",
   "execution_count": 35,
   "id": "6d626dad",
   "metadata": {},
   "outputs": [
    {
     "name": "stdout",
     "output_type": "stream",
     "text": [
      "Epoch 1/100\n",
      "6/6 [==============================] - 0s 26ms/step - loss: 5.1836 - accuracy: 0.1479 - val_loss: 4.7144 - val_accuracy: 0.1774\n",
      "Epoch 2/100\n",
      "6/6 [==============================] - 0s 10ms/step - loss: 4.4719 - accuracy: 0.2394 - val_loss: 4.0065 - val_accuracy: 0.2419\n",
      "Epoch 3/100\n",
      "6/6 [==============================] - 0s 8ms/step - loss: 3.6938 - accuracy: 0.2676 - val_loss: 3.2960 - val_accuracy: 0.2581\n",
      "Epoch 4/100\n",
      "6/6 [==============================] - 0s 7ms/step - loss: 2.9385 - accuracy: 0.2746 - val_loss: 2.5435 - val_accuracy: 0.2742\n",
      "Epoch 5/100\n",
      "6/6 [==============================] - 0s 9ms/step - loss: 2.1702 - accuracy: 0.3662 - val_loss: 1.7866 - val_accuracy: 0.4516\n",
      "Epoch 6/100\n",
      "6/6 [==============================] - 0s 7ms/step - loss: 1.4792 - accuracy: 0.5634 - val_loss: 1.2883 - val_accuracy: 0.6452\n",
      "Epoch 7/100\n",
      "6/6 [==============================] - 0s 8ms/step - loss: 1.1469 - accuracy: 0.7324 - val_loss: 1.1714 - val_accuracy: 0.6613\n",
      "Epoch 8/100\n",
      "6/6 [==============================] - 0s 7ms/step - loss: 1.0570 - accuracy: 0.7606 - val_loss: 1.0968 - val_accuracy: 0.6613\n",
      "Epoch 9/100\n",
      "6/6 [==============================] - 0s 8ms/step - loss: 0.9785 - accuracy: 0.7746 - val_loss: 1.0223 - val_accuracy: 0.6613\n",
      "Epoch 10/100\n",
      "6/6 [==============================] - 0s 7ms/step - loss: 0.9007 - accuracy: 0.7887 - val_loss: 0.9491 - val_accuracy: 0.6935\n",
      "Epoch 11/100\n",
      "6/6 [==============================] - 0s 8ms/step - loss: 0.8258 - accuracy: 0.8169 - val_loss: 0.8802 - val_accuracy: 0.7258\n",
      "Epoch 12/100\n",
      "6/6 [==============================] - 0s 10ms/step - loss: 0.7591 - accuracy: 0.8169 - val_loss: 0.8141 - val_accuracy: 0.7742\n",
      "Epoch 13/100\n",
      "6/6 [==============================] - 0s 10ms/step - loss: 0.6952 - accuracy: 0.8239 - val_loss: 0.7558 - val_accuracy: 0.7903\n",
      "Epoch 14/100\n",
      "6/6 [==============================] - 0s 9ms/step - loss: 0.6407 - accuracy: 0.8239 - val_loss: 0.6999 - val_accuracy: 0.7903\n",
      "Epoch 15/100\n",
      "6/6 [==============================] - 0s 8ms/step - loss: 0.5912 - accuracy: 0.8239 - val_loss: 0.6497 - val_accuracy: 0.7903\n",
      "Epoch 16/100\n",
      "6/6 [==============================] - 0s 10ms/step - loss: 0.5460 - accuracy: 0.8239 - val_loss: 0.6082 - val_accuracy: 0.7903\n",
      "Epoch 17/100\n",
      "6/6 [==============================] - 0s 9ms/step - loss: 0.5079 - accuracy: 0.8239 - val_loss: 0.5682 - val_accuracy: 0.7903\n",
      "Epoch 18/100\n",
      "6/6 [==============================] - 0s 17ms/step - loss: 0.4755 - accuracy: 0.8239 - val_loss: 0.5343 - val_accuracy: 0.7903\n",
      "Epoch 19/100\n",
      "6/6 [==============================] - 0s 18ms/step - loss: 0.4473 - accuracy: 0.8239 - val_loss: 0.5065 - val_accuracy: 0.7903\n",
      "Epoch 20/100\n",
      "6/6 [==============================] - 0s 19ms/step - loss: 0.4230 - accuracy: 0.8239 - val_loss: 0.4857 - val_accuracy: 0.7903\n",
      "Epoch 21/100\n",
      "6/6 [==============================] - 0s 16ms/step - loss: 0.4022 - accuracy: 0.8239 - val_loss: 0.4670 - val_accuracy: 0.7903\n",
      "Epoch 22/100\n",
      "6/6 [==============================] - 0s 8ms/step - loss: 0.3852 - accuracy: 0.8239 - val_loss: 0.4538 - val_accuracy: 0.8226\n",
      "Epoch 23/100\n",
      "6/6 [==============================] - 0s 9ms/step - loss: 0.3690 - accuracy: 0.8310 - val_loss: 0.4382 - val_accuracy: 0.8387\n",
      "Epoch 24/100\n",
      "6/6 [==============================] - 0s 7ms/step - loss: 0.3544 - accuracy: 0.8944 - val_loss: 0.4249 - val_accuracy: 0.9355\n",
      "Epoch 25/100\n",
      "6/6 [==============================] - 0s 8ms/step - loss: 0.3435 - accuracy: 0.9437 - val_loss: 0.4135 - val_accuracy: 0.9355\n",
      "Epoch 26/100\n",
      "6/6 [==============================] - 0s 9ms/step - loss: 0.3317 - accuracy: 0.9859 - val_loss: 0.4003 - val_accuracy: 0.9516\n",
      "Epoch 27/100\n",
      "6/6 [==============================] - 0s 8ms/step - loss: 0.3229 - accuracy: 0.9859 - val_loss: 0.3866 - val_accuracy: 0.9516\n",
      "Epoch 28/100\n",
      "6/6 [==============================] - 0s 8ms/step - loss: 0.3144 - accuracy: 0.9859 - val_loss: 0.3773 - val_accuracy: 0.9677\n",
      "Epoch 29/100\n",
      "6/6 [==============================] - 0s 8ms/step - loss: 0.3060 - accuracy: 0.9648 - val_loss: 0.3692 - val_accuracy: 0.9355\n",
      "Epoch 30/100\n",
      "6/6 [==============================] - 0s 8ms/step - loss: 0.2991 - accuracy: 0.9085 - val_loss: 0.3643 - val_accuracy: 0.9032\n",
      "Epoch 31/100\n",
      "6/6 [==============================] - 0s 8ms/step - loss: 0.2916 - accuracy: 0.9085 - val_loss: 0.3556 - val_accuracy: 0.9032\n",
      "Epoch 32/100\n",
      "6/6 [==============================] - 0s 8ms/step - loss: 0.2860 - accuracy: 0.9155 - val_loss: 0.3498 - val_accuracy: 0.9194\n",
      "Epoch 33/100\n",
      "6/6 [==============================] - 0s 12ms/step - loss: 0.2797 - accuracy: 0.9296 - val_loss: 0.3428 - val_accuracy: 0.9032\n",
      "Epoch 34/100\n",
      "6/6 [==============================] - 0s 8ms/step - loss: 0.2747 - accuracy: 0.9225 - val_loss: 0.3345 - val_accuracy: 0.9194\n",
      "Epoch 35/100\n",
      "6/6 [==============================] - 0s 10ms/step - loss: 0.2695 - accuracy: 0.9437 - val_loss: 0.3295 - val_accuracy: 0.9355\n",
      "Epoch 36/100\n",
      "6/6 [==============================] - 0s 7ms/step - loss: 0.2647 - accuracy: 0.9648 - val_loss: 0.3253 - val_accuracy: 0.9194\n",
      "Epoch 37/100\n",
      "6/6 [==============================] - 0s 9ms/step - loss: 0.2608 - accuracy: 0.9648 - val_loss: 0.3197 - val_accuracy: 0.9355\n",
      "Epoch 38/100\n",
      "6/6 [==============================] - 0s 8ms/step - loss: 0.2558 - accuracy: 0.9648 - val_loss: 0.3141 - val_accuracy: 0.9194\n",
      "Epoch 39/100\n",
      "6/6 [==============================] - 0s 7ms/step - loss: 0.2527 - accuracy: 0.9296 - val_loss: 0.3080 - val_accuracy: 0.9032\n",
      "Epoch 40/100\n",
      "6/6 [==============================] - 0s 20ms/step - loss: 0.2491 - accuracy: 0.9577 - val_loss: 0.3007 - val_accuracy: 0.9516\n",
      "Epoch 41/100\n",
      "6/6 [==============================] - 0s 9ms/step - loss: 0.2443 - accuracy: 0.9789 - val_loss: 0.2965 - val_accuracy: 0.9516\n",
      "Epoch 42/100\n",
      "6/6 [==============================] - 0s 8ms/step - loss: 0.2408 - accuracy: 0.9789 - val_loss: 0.2933 - val_accuracy: 0.9355\n",
      "Epoch 43/100\n",
      "6/6 [==============================] - 0s 7ms/step - loss: 0.2372 - accuracy: 0.9577 - val_loss: 0.2898 - val_accuracy: 0.9355\n",
      "Epoch 44/100\n",
      "6/6 [==============================] - 0s 9ms/step - loss: 0.2340 - accuracy: 0.9507 - val_loss: 0.2841 - val_accuracy: 0.9516\n",
      "Epoch 45/100\n",
      "6/6 [==============================] - 0s 7ms/step - loss: 0.2309 - accuracy: 0.9648 - val_loss: 0.2787 - val_accuracy: 0.9677\n",
      "Epoch 46/100\n",
      "6/6 [==============================] - 0s 8ms/step - loss: 0.2273 - accuracy: 0.9930 - val_loss: 0.2749 - val_accuracy: 0.9677\n",
      "Epoch 47/100\n",
      "6/6 [==============================] - 0s 8ms/step - loss: 0.2240 - accuracy: 0.9859 - val_loss: 0.2722 - val_accuracy: 0.9677\n",
      "Epoch 48/100\n",
      "6/6 [==============================] - 0s 8ms/step - loss: 0.2213 - accuracy: 0.9930 - val_loss: 0.2689 - val_accuracy: 0.9839\n",
      "Epoch 49/100\n",
      "6/6 [==============================] - 0s 8ms/step - loss: 0.2178 - accuracy: 1.0000 - val_loss: 0.2654 - val_accuracy: 0.9839\n",
      "Epoch 50/100\n",
      "6/6 [==============================] - 0s 8ms/step - loss: 0.2147 - accuracy: 0.9930 - val_loss: 0.2630 - val_accuracy: 0.9839\n",
      "Epoch 51/100\n",
      "6/6 [==============================] - 0s 7ms/step - loss: 0.2115 - accuracy: 1.0000 - val_loss: 0.2592 - val_accuracy: 0.9677\n",
      "Epoch 52/100\n",
      "6/6 [==============================] - 0s 8ms/step - loss: 0.2090 - accuracy: 0.9930 - val_loss: 0.2555 - val_accuracy: 0.9677\n",
      "Epoch 53/100\n",
      "6/6 [==============================] - 0s 8ms/step - loss: 0.2056 - accuracy: 0.9930 - val_loss: 0.2525 - val_accuracy: 0.9677\n",
      "Epoch 54/100\n",
      "6/6 [==============================] - 0s 8ms/step - loss: 0.2021 - accuracy: 0.9930 - val_loss: 0.2479 - val_accuracy: 0.9677\n",
      "Epoch 55/100\n",
      "6/6 [==============================] - 0s 7ms/step - loss: 0.1967 - accuracy: 0.9859 - val_loss: 0.2464 - val_accuracy: 0.9516\n",
      "Epoch 56/100\n",
      "6/6 [==============================] - 0s 7ms/step - loss: 0.1931 - accuracy: 0.9789 - val_loss: 0.2421 - val_accuracy: 0.9516\n",
      "Epoch 57/100\n",
      "6/6 [==============================] - 0s 7ms/step - loss: 0.1890 - accuracy: 0.9930 - val_loss: 0.2348 - val_accuracy: 0.9677\n",
      "Epoch 58/100\n",
      "6/6 [==============================] - 0s 8ms/step - loss: 0.1840 - accuracy: 0.9930 - val_loss: 0.2300 - val_accuracy: 0.9677\n",
      "Epoch 59/100\n",
      "6/6 [==============================] - 0s 8ms/step - loss: 0.1795 - accuracy: 1.0000 - val_loss: 0.2257 - val_accuracy: 0.9516\n",
      "Epoch 60/100\n",
      "6/6 [==============================] - 0s 7ms/step - loss: 0.1760 - accuracy: 0.9930 - val_loss: 0.2244 - val_accuracy: 0.9516\n",
      "Epoch 61/100\n",
      "6/6 [==============================] - 0s 8ms/step - loss: 0.1730 - accuracy: 0.9930 - val_loss: 0.2203 - val_accuracy: 0.9516\n",
      "Epoch 62/100\n",
      "6/6 [==============================] - 0s 7ms/step - loss: 0.1687 - accuracy: 0.9930 - val_loss: 0.2147 - val_accuracy: 0.9516\n",
      "Epoch 63/100\n",
      "6/6 [==============================] - 0s 8ms/step - loss: 0.1652 - accuracy: 0.9930 - val_loss: 0.2096 - val_accuracy: 0.9516\n",
      "Epoch 64/100\n",
      "6/6 [==============================] - 0s 10ms/step - loss: 0.1618 - accuracy: 0.9930 - val_loss: 0.2067 - val_accuracy: 0.9516\n",
      "Epoch 65/100\n",
      "6/6 [==============================] - 0s 7ms/step - loss: 0.1582 - accuracy: 0.9930 - val_loss: 0.2035 - val_accuracy: 0.9516\n",
      "Epoch 66/100\n",
      "6/6 [==============================] - 0s 8ms/step - loss: 0.1547 - accuracy: 0.9930 - val_loss: 0.1995 - val_accuracy: 0.9516\n",
      "Epoch 67/100\n",
      "6/6 [==============================] - 0s 7ms/step - loss: 0.1509 - accuracy: 0.9930 - val_loss: 0.1941 - val_accuracy: 0.9516\n",
      "Epoch 68/100\n",
      "6/6 [==============================] - 0s 7ms/step - loss: 0.1478 - accuracy: 1.0000 - val_loss: 0.1907 - val_accuracy: 0.9516\n",
      "Epoch 69/100\n",
      "6/6 [==============================] - 0s 8ms/step - loss: 0.1434 - accuracy: 0.9930 - val_loss: 0.1901 - val_accuracy: 0.9516\n",
      "Epoch 70/100\n",
      "6/6 [==============================] - 0s 8ms/step - loss: 0.1409 - accuracy: 0.9930 - val_loss: 0.1885 - val_accuracy: 0.9516\n",
      "Epoch 71/100\n",
      "6/6 [==============================] - 0s 8ms/step - loss: 0.1373 - accuracy: 0.9930 - val_loss: 0.1820 - val_accuracy: 0.9516\n",
      "Epoch 72/100\n",
      "6/6 [==============================] - 0s 8ms/step - loss: 0.1341 - accuracy: 1.0000 - val_loss: 0.1794 - val_accuracy: 0.9516\n",
      "Epoch 73/100\n",
      "6/6 [==============================] - 0s 7ms/step - loss: 0.1309 - accuracy: 1.0000 - val_loss: 0.1764 - val_accuracy: 0.9516\n",
      "Epoch 74/100\n",
      "6/6 [==============================] - 0s 7ms/step - loss: 0.1284 - accuracy: 1.0000 - val_loss: 0.1706 - val_accuracy: 0.9516\n",
      "Epoch 75/100\n",
      "6/6 [==============================] - 0s 8ms/step - loss: 0.1241 - accuracy: 1.0000 - val_loss: 0.1708 - val_accuracy: 0.9516\n",
      "Epoch 76/100\n",
      "6/6 [==============================] - 0s 7ms/step - loss: 0.1223 - accuracy: 0.9930 - val_loss: 0.1721 - val_accuracy: 0.9355\n",
      "Epoch 77/100\n",
      "6/6 [==============================] - 0s 7ms/step - loss: 0.1187 - accuracy: 1.0000 - val_loss: 0.1641 - val_accuracy: 0.9516\n",
      "Epoch 78/100\n",
      "6/6 [==============================] - 0s 10ms/step - loss: 0.1153 - accuracy: 1.0000 - val_loss: 0.1583 - val_accuracy: 0.9516\n",
      "Epoch 79/100\n",
      "6/6 [==============================] - 0s 7ms/step - loss: 0.1132 - accuracy: 1.0000 - val_loss: 0.1570 - val_accuracy: 0.9516\n",
      "Epoch 80/100\n",
      "6/6 [==============================] - 0s 8ms/step - loss: 0.1097 - accuracy: 1.0000 - val_loss: 0.1561 - val_accuracy: 0.9516\n",
      "Epoch 81/100\n",
      "6/6 [==============================] - 0s 7ms/step - loss: 0.1072 - accuracy: 0.9930 - val_loss: 0.1562 - val_accuracy: 0.9516\n",
      "Epoch 82/100\n",
      "6/6 [==============================] - 0s 8ms/step - loss: 0.1060 - accuracy: 0.9930 - val_loss: 0.1569 - val_accuracy: 0.9355\n",
      "Epoch 83/100\n",
      "6/6 [==============================] - 0s 8ms/step - loss: 0.1033 - accuracy: 0.9930 - val_loss: 0.1520 - val_accuracy: 0.9516\n",
      "Epoch 84/100\n",
      "6/6 [==============================] - 0s 8ms/step - loss: 0.1002 - accuracy: 1.0000 - val_loss: 0.1422 - val_accuracy: 0.9516\n",
      "Epoch 85/100\n",
      "6/6 [==============================] - 0s 10ms/step - loss: 0.0987 - accuracy: 1.0000 - val_loss: 0.1387 - val_accuracy: 0.9677\n",
      "Epoch 86/100\n",
      "6/6 [==============================] - 0s 10ms/step - loss: 0.0996 - accuracy: 0.9930 - val_loss: 0.1470 - val_accuracy: 0.9516\n",
      "Epoch 87/100\n",
      "6/6 [==============================] - 0s 8ms/step - loss: 0.0935 - accuracy: 0.9930 - val_loss: 0.1393 - val_accuracy: 0.9516\n",
      "Epoch 88/100\n",
      "6/6 [==============================] - 0s 10ms/step - loss: 0.0915 - accuracy: 1.0000 - val_loss: 0.1384 - val_accuracy: 0.9516\n",
      "Epoch 89/100\n",
      "6/6 [==============================] - 0s 11ms/step - loss: 0.0888 - accuracy: 1.0000 - val_loss: 0.1347 - val_accuracy: 0.9516\n",
      "Epoch 90/100\n",
      "6/6 [==============================] - 0s 10ms/step - loss: 0.0871 - accuracy: 1.0000 - val_loss: 0.1316 - val_accuracy: 0.9516\n",
      "Epoch 91/100\n",
      "6/6 [==============================] - 0s 9ms/step - loss: 0.0850 - accuracy: 1.0000 - val_loss: 0.1323 - val_accuracy: 0.9516\n",
      "Epoch 92/100\n",
      "6/6 [==============================] - 0s 9ms/step - loss: 0.0834 - accuracy: 1.0000 - val_loss: 0.1334 - val_accuracy: 0.9516\n",
      "Epoch 93/100\n",
      "6/6 [==============================] - 0s 9ms/step - loss: 0.0813 - accuracy: 1.0000 - val_loss: 0.1283 - val_accuracy: 0.9516\n",
      "Epoch 94/100\n",
      "6/6 [==============================] - 0s 9ms/step - loss: 0.0798 - accuracy: 1.0000 - val_loss: 0.1251 - val_accuracy: 0.9516\n",
      "Epoch 95/100\n",
      "6/6 [==============================] - 0s 10ms/step - loss: 0.0783 - accuracy: 1.0000 - val_loss: 0.1220 - val_accuracy: 0.9516\n",
      "Epoch 96/100\n",
      "6/6 [==============================] - 0s 8ms/step - loss: 0.0760 - accuracy: 1.0000 - val_loss: 0.1251 - val_accuracy: 0.9516\n",
      "Epoch 97/100\n",
      "6/6 [==============================] - 0s 8ms/step - loss: 0.0756 - accuracy: 0.9930 - val_loss: 0.1289 - val_accuracy: 0.9516\n",
      "Epoch 98/100\n",
      "6/6 [==============================] - 0s 8ms/step - loss: 0.0734 - accuracy: 0.9930 - val_loss: 0.1235 - val_accuracy: 0.9677\n",
      "Epoch 99/100\n",
      "6/6 [==============================] - 0s 8ms/step - loss: 0.0711 - accuracy: 1.0000 - val_loss: 0.1161 - val_accuracy: 0.9677\n",
      "Epoch 100/100\n",
      "6/6 [==============================] - 0s 9ms/step - loss: 0.0703 - accuracy: 1.0000 - val_loss: 0.1122 - val_accuracy: 0.9677\n"
     ]
    }
   ],
   "source": [
    "model.load_weights(\"model.h5\")\n",
    "\n",
    "#modifichiamo iperparametro di learning rate, perchè Adam raggiunge convergenza più velocemente\n",
    "\n",
    "l_r = 0.004\n",
    "\n",
    "#compiliamo il modello, useremo questo volta Adam\n",
    "\n",
    "model.compile(loss='categorical_crossentropy', optimizer=keras.optimizers.Adam(learning_rate = l_r), metrics=['accuracy'])\n",
    "\n",
    "#facciamo il fit \n",
    "\n",
    "history = model.fit(X_train_nor, y_train_cat, epochs=epochs, batch_size=batch_size, validation_data=(X_val_nor,y_val_cat), verbose=1, shuffle=True)"
   ]
  },
  {
   "cell_type": "markdown",
   "id": "a2ba3c59",
   "metadata": {},
   "source": [
    "Valutiamo performance nuovo training."
   ]
  },
  {
   "cell_type": "code",
   "execution_count": 36,
   "id": "bf0e9aa6",
   "metadata": {},
   "outputs": [
    {
     "name": "stdout",
     "output_type": "stream",
     "text": [
      "2/2 [==============================] - 0s 4ms/step - loss: 0.0890 - accuracy: 0.9722\n",
      "Test Loss:\t 0.08896240592002869\n",
      "Test Accuracy:\t 0.9722222089767456\n"
     ]
    }
   ],
   "source": [
    "test_loss, test_acc = model.evaluate(X_test_nor, y_test_cat)\n",
    "\n",
    "print('Test Loss:\\t', test_loss)\n",
    "print('Test Accuracy:\\t', test_acc)"
   ]
  },
  {
   "cell_type": "markdown",
   "id": "9da8fa41",
   "metadata": {},
   "source": [
    "Grafichiamo ancora una volta."
   ]
  },
  {
   "cell_type": "code",
   "execution_count": 37,
   "id": "4c040207",
   "metadata": {},
   "outputs": [
    {
     "data": {
      "text/plain": [
       "Text(0.5, 1.0, 'Learning curves(Adam) - RobustScaling')"
      ]
     },
     "execution_count": 37,
     "metadata": {},
     "output_type": "execute_result"
    },
    {
     "data": {
      "image/png": "[encoded data removed]",
      "text/plain": [
       "<Figure size 576x432 with 1 Axes>"
      ]
     },
     "metadata": {
      "needs_background": "light"
     },
     "output_type": "display_data"
    }
   ],
   "source": [
    "fig, ax = plt.subplots(figsize=(8,6))\n",
    "\n",
    "for metric in history.history:\n",
    "    if len(metric.split('_')) < 2:\n",
    "        ax.plot(np.array(history.epoch)-.5, history.history[metric], label=metric)\n",
    "    else:\n",
    "        ax.plot(history.epoch, history.history[metric], label=metric)\n",
    "    \n",
    "ax.grid()    \n",
    "\n",
    "ax.legend(fontsize=15);\n",
    "ax.set_title(\"Learning curves(Adam) - RobustScaling\", fontsize = 18)"
   ]
  },
  {
   "cell_type": "markdown",
   "id": "b30fc9a6",
   "metadata": {},
   "source": [
    "Questa volta ci soddisfano sia le performance sul test set che le learning curves, che hanno molte meno oscillazioni."
   ]
  }
 ],
 "metadata": {
  "kernelspec": {
   "display_name": "Python 3 (ipykernel)",
   "language": "python",
   "name": "python3"
  },
  "language_info": {
   "codemirror_mode": {
    "name": "ipython",
    "version": 3
   },
   "file_extension": ".py",
   "mimetype": "text/x-python",
   "name": "python",
   "nbconvert_exporter": "python",
   "pygments_lexer": "ipython3",
   "version": "3.9.7"
  }
 },
 "nbformat": 4,
 "nbformat_minor": 5
}
